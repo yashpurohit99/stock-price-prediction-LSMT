{
 "cells": [
  {
   "cell_type": "markdown",
   "metadata": {},
   "source": [
    "#  Mini project 02\n",
    "\n",
    "\n",
    "#### Date created: 23/08/2022\n",
    
   ]
  },
  {
   "cell_type": "markdown",
   "metadata": {},
   "source": [
    "The objective of EPAT guided projects is to give you a flavour of solving a real-world problem using Python.  \n",
    "\n",
    "Here's what we'll do.\n",
    "\n",
    "- We will give you the step-wise process to follow so that you understand how to analyze a problem and break it down into steps.\n",
    "- We will give hints for the difficult steps. You can use them if you get stuck somewhere. This will make sure that you do not spend too much time stranded at a particular step. \n",
    "- **We urge you to search for solutions on the internet too. That's what you'll do in the outdoors and we think it is an essential part of learning to program.**\n",
    "- You can explore alternate ways to solve the problem.\n",
    "- Guided projects are not graded or reviewed. You need to code the solution and run it successfully to evaluate your own progress.\n",
    "- We provide a model solution of the project against which you can compare your code for self-review.\n",
    "- The duration of this project is ONE week. You need to complete the project within that time.\n",
    "\n",
    "\n",
    "Let's begin!\n",
    "\n",
    "-----"
   ]
  },
  {
   "cell_type": "markdown",
   "metadata": {},
   "source": [
    "# **Topic: Stock price prediction using LSTM**\n",
    "\n",
    "**Problem statement:**\n",
    "\n",
    "Predicting the stock prices in the future is an important use-case in finance. If we can build a model with reasonable accuracy which can help us in predicting the movement of the stock prices for an asset, it can yield good returns.\n",
    "\n",
    "The Long Short Term Memory ([LSTM](https://colah.github.io/posts/2015-08-Understanding-LSTMs/)) networks are a refined version of Recurrent Neural Network (RNN) which perform well on such problems. \n",
    "\n",
    "Let us use the LSTM network to predict stock prices for a security."
   ]
  },
  {
   "cell_type": "markdown",
   "metadata": {},
   "source": [
    "----"
   ]
  },
  {
   "cell_type": "markdown",
   "metadata": {},
   "source": [
    "**Steps to perform for this project:**\n",
    "\n",
    "1. Import the libraries\n",
    "2. Download the data and check it\n",
    "3. Data pre-processing\n",
    "4. Creating the training and test data set\n",
    "5. Define the features and the labels\n",
    "6. Define the LSTM model\n",
    "7. Training the LSTM Model\n",
    "8. Model Evaluation\n",
    "9. Visualizing the Predicted Prices"
   ]
  },
  {
   "cell_type": "markdown",
   "metadata": {},
   "source": [
    "----"
   ]
  },
  {
   "cell_type": "markdown",
   "metadata": {
    "id": "qP-xq65n3CU-"
   },
   "source": [
    "## Section 1: Import the libraries"
   ]
  },
  {
   "cell_type": "markdown",
   "metadata": {},
   "source": [
    "Import the libraries with the aliases given in the brackets below.\n",
    "\n",
    "_For downloading data_\n",
    "- `yfinance` (yf)\n",
    "\n",
    "_For data manipulation_\n",
    "- `pandas` (pd)\n",
    "- `numpy` (np)\n",
    "\n",
    "_For mathematical operations_\n",
    "- `math`\n",
    "\n",
    "_For visualization_\n",
    "- `matplotlib.pyplot` (plt)\n",
    "- `rcParams` from `matplotlib.pylab`\n",
    "\n",
    "_For data normalisation_\n",
    "- `MinMaxScaler` from `sklearn.preprocessing`\n",
    "\n",
    "_For building the model_\n",
    "- `LSTM`, `Dropout`, `Dense` from `keras.layers`\n",
    "- `Sequential` from `keras.models`\n",
    "\n",
    "_For make the model work only with the CPU_\n",
    "```python\n",
    "import os\n",
    "os.environ['CUDA_VISIBLE_DEVICES'] = '-1'\n",
    "```"
   ]
  },
  {
   "cell_type": "code",
   "execution_count": null,
   "metadata": {
    "id": "rJi6PolX2oAg"
   },
   "outputs": [],
   "source": [
    "'''\n",
    "Add your code here\n",
    "'''"
   ]
  },
  {
   "cell_type": "code",
   "execution_count": null,
   "metadata": {
    "id": "rJi6PolX2oAg"
   },
   "outputs": [],
   "source": [
    "# # Settings the figsize parameter for the plots in this notebook to standardize the size of plots\n",
    "%matplotlib inline\n",
    "rcParams['figure.figsize'] = 20, 10"
   ]
  },
  {
   "cell_type": "markdown",
   "metadata": {
    "id": "SwFTHbKc3O_P"
   },
   "source": [
    "## Section 2: Download the data and check it"
   ]
  },
  {
   "cell_type": "markdown",
   "metadata": {
    "id": "SwFTHbKc3O_P"
   },
   "source": [
    "Download the last 10-years' historical data for Microsoft (`MSFT`) using `yfinance`."
   ]
  },
  {
   "cell_type": "code",
   "execution_count": null,
   "metadata": {
    "colab": {
     "base_uri": "https://localhost:8080/"
    },
    "id": "DPyePPPz37b-",
    "outputId": "fb1be850-3fa1-43e0-9e8e-ed901cb4b531"
   },
   "outputs": [],
   "source": [
    "# Download the data\n",
    "'''\n",
    "Add your code here\n",
    "'''"
   ]
  },
  {
   "cell_type": "code",
   "execution_count": null,
   "metadata": {
    "colab": {
     "base_uri": "https://localhost:8080/",
     "height": 237
    },
    "id": "R8TYTq6M4xot",
    "outputId": "0c57e895-dc61-4cbb-a82e-4f3873dc4d70"
   },
   "outputs": [],
   "source": [
    "# Check the dataset\n",
    "'''\n",
    "Add your code here\n",
    "'''"
   ]
  },
  {
   "cell_type": "code",
   "execution_count": null,
   "metadata": {
    "colab": {
     "base_uri": "https://localhost:8080/"
    },
    "id": "jcQPVw1L7EkH",
    "outputId": "3b626550-82df-436f-80b1-5e52d4e1ae38"
   },
   "outputs": [],
   "source": [
    "# Check the number of rows and columns in the dataframe\n",
    "'''\n",
    "Add your code here\n",
    "'''"
   ]
  },
  {
   "cell_type": "code",
   "execution_count": null,
   "metadata": {
    "colab": {
     "base_uri": "https://localhost:8080/",
     "height": 579
    },
    "id": "s2CeVk8K5SJf",
    "outputId": "1654ab8e-21a1-4010-de93-6cdc19f8b341"
   },
   "outputs": [],
   "source": [
    "# Plot the adjusted close price\n",
    "'''\n",
    "Add your code here\n",
    "'''"
   ]
  },
  {
   "cell_type": "markdown",
   "metadata": {},
   "source": [
    "## Section 3: Data pre-processing"
   ]
  },
  {
   "cell_type": "markdown",
   "metadata": {},
   "source": [
    "### Filter the dataset"
   ]
  },
  {
   "cell_type": "markdown",
   "metadata": {},
   "source": [
    "Create a new dataframe with just the adjusted close prices because we will be working only with this data."
   ]
  },
  {
   "cell_type": "code",
   "execution_count": null,
   "metadata": {
    "id": "J0ZjKOEq43hs"
   },
   "outputs": [],
   "source": [
    "# Create a dataframe with just the Adj Close prices from the previous dataframe\n",
    "'''\n",
    "Add your code here\n",
    "'''"
   ]
  },
  {
   "cell_type": "code",
   "execution_count": null,
   "metadata": {
    "colab": {
     "base_uri": "https://localhost:8080/"
    },
    "id": "kHWkZ32d6j5b",
    "outputId": "cc1686ac-927f-47ac-87f2-ddafca3fcb34"
   },
   "outputs": [],
   "source": [
    "# Check the filtered dataset\n",
    "'''\n",
    "Add your code here\n",
    "'''"
   ]
  },
  {
   "cell_type": "code",
   "execution_count": null,
   "metadata": {
    "colab": {
     "base_uri": "https://localhost:8080/"
    },
    "id": "X3FjpKsg7Au1",
    "outputId": "25e2b88c-66ac-4380-f1f1-a7be428186d5"
   },
   "outputs": [],
   "source": [
    "# Check the number of rows and columns in the filtered dataset\n",
    "'''\n",
    "Add your code here\n",
    "'''"
   ]
  },
  {
   "cell_type": "markdown",
   "metadata": {},
   "source": [
    "Rename the column to 'Close' for convenience. It is named as 'Adj Close' currently."
   ]
  },
  {
   "cell_type": "code",
   "execution_count": null,
   "metadata": {
    "colab": {
     "base_uri": "https://localhost:8080/"
    },
    "id": "-cflmxuQ7CLd",
    "outputId": "44c78ec7-1098-415f-a5c3-963391f214ec"
   },
   "outputs": [],
   "source": [
    "# Rename the column to Close for convenience\n",
    "'''\n",
    "Add your code here\n",
    "'''"
   ]
  },
  {
   "cell_type": "markdown",
   "metadata": {
    "id": "1D7emvBN-Ygy"
   },
   "source": [
    "### Normalize the filtered dataset"
   ]
  },
  {
   "cell_type": "markdown",
   "metadata": {},
   "source": [
    "Create an array called `prices` with the values of all the close prices from the filtered dataframe."
   ]
  },
  {
   "cell_type": "code",
   "execution_count": null,
   "metadata": {
    "id": "0HVIgHDo-GV8"
   },
   "outputs": [],
   "source": [
    "'''\n",
    "Add your code here\n",
    "'''"
   ]
  },
  {
   "cell_type": "code",
   "execution_count": null,
   "metadata": {
    "colab": {
     "base_uri": "https://localhost:8080/"
    },
    "id": "k3ogVtdRCmBh",
    "outputId": "89fc06b2-f64d-4f13-c5ea-9face83eecc6"
   },
   "outputs": [],
   "source": [
    "# Check the prices array\n",
    "'''\n",
    "Add your code here\n",
    "'''"
   ]
  },
  {
   "cell_type": "markdown",
   "metadata": {},
   "source": [
    "#### Get the data split number"
   ]
  },
  {
   "cell_type": "markdown",
   "metadata": {},
   "source": [
    "We want 80% of the data for training the model, and 20% for the test data set. So, compute the number of records that are required for the training data set. "
   ]
  },
  {
   "cell_type": "code",
   "execution_count": null,
   "metadata": {},
   "outputs": [],
   "source": [
    "# Computing the number of records we want in the training data set\n",
    "'''\n",
    "Add your code here\n",
    "'''"
   ]
  },
  {
   "cell_type": "markdown",
   "metadata": {},
   "source": [
    "#### Scaling the data"
   ]
  },
  {
   "cell_type": "markdown",
   "metadata": {},
   "source": [
    "Do the following:\n",
    "- Reshape the `prices` array with `newshape` as (1, -1)\n",
    "(Refer to the official documentation to read more about the [numpy.reshape()](https://numpy.org/doc/stable/reference/generated/numpy.reshape.html) method).\n",
    "<br>**Note**- _The new shape should be compatible with the original shape. If an integer, then the result will be a 1-D array of that length. One shape dimension can be -1. In this case, the value is inferred from the length of the array and remaining dimensions_\n",
    "- Normalize the data to values between 0 and 1 using `MinMaxScaler`and save it as `scaled_prices`. Remember, that the feature range has to be passed as a tuple."
   ]
  },
  {
   "cell_type": "code",
   "execution_count": null,
   "metadata": {
    "id": "Z0sphs5BCdsb"
   },
   "outputs": [],
   "source": [
    "# Normalize the data to values between 0 and 1\n",
    "'''\n",
    "Add your code here\n",
    "'''"
   ]
  },
  {
   "cell_type": "code",
   "execution_count": null,
   "metadata": {
    "colab": {
     "base_uri": "https://localhost:8080/"
    },
    "id": "mcEZtDMgCn6R",
    "outputId": "2dbc98ac-83af-48cf-aeb4-7ca596ee5091",
    "scrolled": true
   },
   "outputs": [],
   "source": [
    "# Check the scaled prices array\n",
    "'''\n",
    "Add your code here\n",
    "'''"
   ]
  },
  {
   "cell_type": "markdown",
   "metadata": {},
   "source": [
    "HINT: To normalize the prices array using `MinMaxScaler`, follow the steps below:\n",
    "- Initialize a MinMaxScaler object with feature_range as (0,1).\n",
    "- Call the `fit` method of the scaler object and pass the prices' first `train_len` observations.\n",
    "- Call the `transform` method of the scaler object and pass the entire `prices`."
   ]
  },
  {
   "cell_type": "markdown",
   "metadata": {
    "id": "lA9oA2UQCukY"
   },
   "source": [
    "## Section 4: Creating the training and test data set"
   ]
  },
  {
   "cell_type": "markdown",
   "metadata": {},
   "source": [
    "Create the training data set with the first 'n' rows of the scaled prices, where 'n' is the number of records required in the training data set, computed above."
   ]
  },
  {
   "cell_type": "code",
   "execution_count": null,
   "metadata": {
    "id": "30HBQrKLLgwM"
   },
   "outputs": [],
   "source": [
    "# Create the training data set with the first n rows of the scaled prices\n",
    "# n is the number of records required in the training data set, computed above\n",
    "'''\n",
    "Add your code here\n",
    "'''"
   ]
  },
  {
   "cell_type": "markdown",
   "metadata": {
    "id": "M_N3349pN3Lt"
   },
   "source": [
    "## Section 5: Define the features and the labels"
   ]
  },
  {
   "cell_type": "markdown",
   "metadata": {},
   "source": [
    "We should input our data in the form of a 3D array to the LSTM model. First, we create data in 60 timesteps before using numpy to convert it into an array. Finally, we convert the data into a 3D array with X_train samples, 60 timestamps, and one feature at each step."
   ]
  },
  {
   "cell_type": "markdown",
   "metadata": {},
   "source": [
    "Do the following steps:\n",
    "\n",
    "1. Create an empty list for the features `x_train` and labels `y_train`.\n",
    "2. Create a 60-days window of historical prices as our feature data `x_train` and the following 60-days window as label data `y_train`."
   ]
  },
  {
   "cell_type": "code",
   "execution_count": null,
   "metadata": {
    "id": "1IX0U2GtNaEA"
   },
   "outputs": [],
   "source": [
    "# Create an empty list for the feature data and label data\n",
    "'''\n",
    "Add your code here\n",
    "'''"
   ]
  },
  {
   "cell_type": "code",
   "execution_count": null,
   "metadata": {
    "id": "1IX0U2GtNaEA"
   },
   "outputs": [],
   "source": [
    "# Create a 60-days window of historical prices (i-60) as our feature data (x_train) and the following 60-days window as label data (y_train).\n",
    "'''\n",
    "Add your code here\n",
    "'''"
   ]
  },
  {
   "cell_type": "markdown",
   "metadata": {
    "id": "dXjIZTX7QBjD"
   },
   "source": [
    "3. Convert the features (x_train) and labels (y_train) into `Numpy` arrays as required by `Tensorflow` when training a neural network model. \n",
    "\n",
    "4. Reshape the x_train into a three-dimensional array as `LSTM` supports three-dimensional input."
   ]
  },
  {
   "cell_type": "code",
   "execution_count": null,
   "metadata": {
    "id": "Jcqo1FfKP5ad"
   },
   "outputs": [],
   "source": [
    "# Convert the x_train and y_train into numpy arrays\n",
    "'''\n",
    "Add your code here\n",
    "'''"
   ]
  },
  {
   "cell_type": "code",
   "execution_count": null,
   "metadata": {
    "id": "Jcqo1FfKP5ad"
   },
   "outputs": [],
   "source": [
    "# Reshape into a three-dimensional array\n",
    "'''\n",
    "Add your code here\n",
    "'''"
   ]
  },
  {
   "cell_type": "markdown",
   "metadata": {
    "id": "Lf_vXpGXF_Ud"
   },
   "source": [
    "5. Extract the closing prices from our normalized dataset (the last 20% of the dataset).\n",
    "\n",
    "6. Similar to the training set, create feature data (x_test) and label data (y_test) from our test set.\n",
    "\n",
    "7. Convert the feature data (x_test) and label data (y_test) into Numpy array. Reshape again the x_test and y_test into a three-dimensional array"
   ]
  },
  {
   "cell_type": "code",
   "execution_count": null,
   "metadata": {
    "id": "EyBOvOuDDtNd"
   },
   "outputs": [],
   "source": [
    "'''\n",
    "Add your code here\n",
    "'''"
   ]
  },
  {
   "cell_type": "markdown",
   "metadata": {},
   "source": [
    "## Section 6: Define the LSTM model"
   ]
  },
  {
   "cell_type": "markdown",
   "metadata": {
    "id": "Pd5Yb9ogGMV8"
   },
   "source": [
    "Now, you are ready to use the open-source machine learning library, Tensorflow, to set up our LSTM network architecture.\n",
    "\n",
    "Write code for the following:\n",
    "1. Define a Sequential model which consists of a linear stack of layers.\n",
    "2. Add a LSTM layer by giving it 100 network units. Set the return_sequence to true so that the output of the layer will be another sequence of the same length.\n",
    "3. Add another LSTM layer with also 100 network units. But we set the return_sequence to false for this time to only return the last output in the output sequence.\n",
    "4. Add a densely connected neural network layer with 25 network units.\n",
    "5. At last, add a densely connected layer that specifies the output of 1 network unit.\n",
    "6. Show the summary of this LSTM network architecture."
   ]
  },
  {
   "cell_type": "code",
   "execution_count": null,
   "metadata": {
    "colab": {
     "base_uri": "https://localhost:8080/"
    },
    "id": "vmyjQQl1EhMm",
    "outputId": "3ffa7936-4ebe-432f-95bc-e01f54fa3852"
   },
   "outputs": [],
   "source": [
    "'''\n",
    "Add your code here\n",
    "'''"
   ]
  },
  {
   "cell_type": "markdown",
   "metadata": {
    "id": "WG9j1gzNGyT9"
   },
   "source": [
    "## Section 7: Training the LSTM Model"
   ]
  },
  {
   "cell_type": "markdown",
   "metadata": {
    "id": "WG9j1gzNGyT9"
   },
   "source": [
    "You are almost ready to train your LSTM model by fitting it with the training set. But before that, you have to set an optimizer and a loss function for the model.\n",
    "\n",
    "Do the following:\n",
    "- Adopt `adam` optimizer and set the mean square error as loss function. You need to use the `compile()` method for this. Pass 'adam' to the `optimizer` parameter, and 'mean_squared_error' to the `loss` parameter.\n",
    "\n",
    "- Train the model by fitting it with the training set. We can try with batch_size of 1 and run the training for 3 epochs. Use the model `fit()` method for it."
   ]
  },
  {
   "cell_type": "code",
   "execution_count": null,
   "metadata": {
    "colab": {
     "base_uri": "https://localhost:8080/"
    },
    "id": "KNmkpzVoFz5I",
    "outputId": "2808191d-b86e-4b9c-84c0-c7fabda94ec5"
   },
   "outputs": [],
   "source": [
    "'''\n",
    "Add your code here\n",
    "'''"
   ]
  },
  {
   "cell_type": "markdown",
   "metadata": {
    "id": "747Nyr2UHALl"
   },
   "source": [
    "## Section 8: Model Evaluation"
   ]
  },
  {
   "cell_type": "markdown",
   "metadata": {
    "id": "747Nyr2UHALl"
   },
   "source": [
    "Now, you need to evaluate your trained LSTM model with the test set. Examine the performance of the model using the root mean square error (RMSE) metric.\n",
    "\n",
    "Here are the steps:\n",
    "1. Apply the model to predict the stock prices based on the test set using the `predict()` method.\n",
    "2. Use the `inverse_transform()` method to denormalize the predicted stock prices.\n",
    "3. Apply the RMSE formula to calculate the degree of discrepancy between the predicted prices and real prices (y_test) and display the result"
   ]
  },
  {
   "cell_type": "code",
   "execution_count": null,
   "metadata": {
    "colab": {
     "base_uri": "https://localhost:8080/"
    },
    "id": "2E7p_IwVHCYM",
    "outputId": "1ab67a6c-cb26-4872-b7f4-cdc0f6d73082"
   },
   "outputs": [],
   "source": [
    "'''\n",
    "Add your code here\n",
    "'''"
   ]
  },
  {
   "cell_type": "markdown",
   "metadata": {
    "id": "tQCIgLQIIgjo"
   },
   "source": [
    "## Section 9: Visualizing the Predicted Prices"
   ]
  },
  {
   "cell_type": "markdown",
   "metadata": {
    "id": "tQCIgLQIIgjo"
   },
   "source": [
    "It is always helpful to visualize the predicted prices in a graphical way. Plot the predicted stock price and the real stock price using Matplolib."
   ]
  },
  {
   "cell_type": "code",
   "execution_count": null,
   "metadata": {
    "colab": {
     "base_uri": "https://localhost:8080/",
     "height": 513
    },
    "id": "nP4ev5_nIjHf",
    "outputId": "8175e09c-2def-4750-d540-2b05389bfd73"
   },
   "outputs": [],
   "source": [
    "'''\n",
    "Add your code here\n",
    "'''"
   ]
  },
  {
   "cell_type": "markdown",
   "metadata": {
    "id": "vZG4RROGMf-g"
   },
   "source": [
    "You can observe that LSTM has predicted stocks almost similar to actual stocks."
   ]
  }
 ],
 "metadata": {
  "colab": {
   "name": "EPAT Guided mini project 02_solution.ipynb",
   "provenance": []
  },
  "hide_input": false,
  "kernelspec": {
   "display_name": "Python 3 (ipykernel)",
   "language": "python",
   "name": "python3"
  },
  "language_info": {
   "codemirror_mode": {
    "name": "ipython",
    "version": 3
   },
   "file_extension": ".py",
   "mimetype": "text/x-python",
   "name": "python",
   "nbconvert_exporter": "python",
   "pygments_lexer": "ipython3",
   "version": "3.12.11"
  }
 },
 "nbformat": 4,
 "nbformat_minor": 4
}
